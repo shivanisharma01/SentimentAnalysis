{
  "cells": [
    {
      "cell_type": "markdown",
      "metadata": {
        "id": "view-in-github",
        "colab_type": "text"
      },
      "source": [
        "<a href=\"https://colab.research.google.com/github/shivanisharma01/SentimentAnalysis/blob/main/Twitter_R_checkpoint.ipynb\" target=\"_parent\"><img src=\"https://colab.research.google.com/assets/colab-badge.svg\" alt=\"Open In Colab\"/></a>"
      ]
    },
    {
      "cell_type": "code",
      "execution_count": null,
      "metadata": {
        "id": "Vg07cCtQi_2h"
      },
      "outputs": [],
      "source": [
        "import tweepy\n",
        "from tweepy import Cursor\n",
        "import re\n",
        "import datetime\n",
        "import pandas as pd\n",
        "import warnings\n",
        "from tweepy.streaming import StreamListener\n",
        "from tweepy import OAuthHandler\n",
        "from tweepy import Stream\n",
        "warnings.filterwarnings('ignore')\n",
        "\n",
        "\n",
        "api_key = 'GuU196zC1yOAoa1owi2XjRqIp'\n",
        "api_secret_key = 'Gs5JZTK5Fn5IpjvaeCgDPowrOxJls3dXXG1JjmpCcy1c0AVsVS'\n",
        "access_token = '769211980934774784-Z5yCI4dJKS4ygfzGAAsUgzETKtFk0xE'\n",
        "access_token_secret = 'rrB0IeafAwi5oCr8XfPUe5lTDPgq1L3AQskh3FjoYKwkc'"
      ]
    },
    {
      "cell_type": "code",
      "execution_count": null,
      "metadata": {
        "id": "qyKa6vWXi_2l"
      },
      "outputs": [],
      "source": [
        "# Connect to Twitter API using the secrets\n",
        "auth = tweepy.OAuthHandler(api_key, api_secret_key)\n",
        "auth.set_access_token(access_token, access_token_secret)\n",
        "api = tweepy.API(auth)"
      ]
    },
    {
      "cell_type": "code",
      "execution_count": null,
      "metadata": {
        "id": "nepj0q4pi_2m",
        "outputId": "3007d214-2244-48fc-a235-cbeb54c414d1"
      },
      "outputs": [
        {
          "data": {
            "text/plain": [
              "1000"
            ]
          },
          "execution_count": 4,
          "metadata": {},
          "output_type": "execute_result"
        }
      ],
      "source": [
        "def get_tweets(query):\n",
        "    tweets = []\n",
        "    for status in Cursor(api.search, lang=\"en\", q=query, tweet_mode='extended', retweet_mode = 'extended', truncated=False).items(1000):\n",
        "        tweets.append(status)\n",
        "            \n",
        "    return tweets\n",
        "\n",
        "search_keyword = \"Storm OR Winter OR Canada OR Temperature OR Flu OR Snow OR Indoor OR Safety\"\n",
        "tweets = get_tweets(search_keyword)\n",
        "len(tweets)"
      ]
    },
    {
      "cell_type": "code",
      "execution_count": null,
      "metadata": {
        "id": "gtVPJ3uXi_2n"
      },
      "outputs": [],
      "source": [
        "def raw_data(tweets):\n",
        "    rawData = []\n",
        "    for tweet in tweets:\n",
        "        if hasattr(tweet, 'full_text'):\n",
        "            rowData = {\"screen_name\": tweet.user.screen_name, \"user_id\": tweet.user.id, \"created_at\": tweet.created_at, \"full_text\": tweet.full_text,\"retweet_count\": tweet.retweet_count}\n",
        "            rawData.append(rowData)\n",
        "        \n",
        "    return rawData"
      ]
    },
    {
      "cell_type": "code",
      "execution_count": null,
      "metadata": {
        "id": "qmmuqAQBi_2o",
        "outputId": "5c660bfc-f530-486d-cdba-ab3c50a1fe73"
      },
      "outputs": [
        {
          "name": "stdout",
          "output_type": "stream",
          "text": [
            "        screen_name              user_id          created_at  \\\n",
            "0    classicsunrise           2312921736 2020-12-05 20:45:24   \n",
            "1            Rask65            438974934 2020-12-05 20:45:24   \n",
            "2    MyMuseAndMusic  1325952158508986370 2020-12-05 20:45:23   \n",
            "3        fablefolly  1246547924689051655 2020-12-05 20:45:23   \n",
            "4          dantarte            145925314 2020-12-05 20:45:23   \n",
            "..              ...                  ...                 ...   \n",
            "995     ericsynnett   802358955188043776 2020-12-05 20:43:11   \n",
            "996    NotteChimera  1017983057884864512 2020-12-05 20:43:11   \n",
            "997   AngelaMcclard            324500784 2020-12-05 20:43:11   \n",
            "998  vmarketingsite           1195742076 2020-12-05 20:43:11   \n",
            "999    MRCPromotion            422016286 2020-12-05 20:43:11   \n",
            "\n",
            "                                             full_text  retweet_count  \n",
            "0    RT @colinasher: Shantell Green is an incarcera...             22  \n",
            "1    Canadian Trumpism in full view. The main strea...              0  \n",
            "2    RT @RodLacroix: Me: It's 30 degrees and snowin...              5  \n",
            "3    RT @bigsharkguy: persephone          my happin...           7679  \n",
            "4                     DisneyWorld Canada? Quebec City!              0  \n",
            "..                                                 ...            ...  \n",
            "995  RT @inklessPW: 𝐘𝐨𝐮 𝐰𝐢𝐥𝐥 𝐧𝐨𝐭 𝐛𝐞𝐥𝐢𝐞𝐯𝐞 𝐰𝐡𝐚𝐭 𝐲𝐨𝐮 𝐚...            336  \n",
            "996  @JocularFemme Oh yeah, I know. It’ll be a whir...              0  \n",
            "997  RT @davidaxelrod: Remember when @realDonaldTru...            138  \n",
            "998  Nice digital  Desk Clock With Calendar and Tem...              0  \n",
            "999  RT @MRCPromotion: @BopAlloy ‘WHAT’S IT WITHOUT...              1  \n",
            "\n",
            "[1000 rows x 5 columns]\n"
          ]
        },
        {
          "data": {
            "text/plain": [
              "<pandas.core.indexes.accessors.DatetimeProperties object at 0x00000195AE952AC0>"
            ]
          },
          "execution_count": 6,
          "metadata": {},
          "output_type": "execute_result"
        }
      ],
      "source": [
        "rawData = raw_data(tweets)\n",
        "# print(rawData)\n",
        "DataF = pd.DataFrame(rawData)\n",
        "print(DataF)\n",
        "DataF['created_at'].dt"
      ]
    },
    {
      "cell_type": "code",
      "execution_count": null,
      "metadata": {
        "id": "CGoRPsFEi_2p"
      },
      "outputs": [],
      "source": [
        "# Converting time to timestamp #\n",
        "import time \n",
        "import datetime\n",
        "\n",
        "DataF['timestamp'] = DataF[['created_at']].apply(lambda x: x[0].timestamp(), axis=1).astype(int)\n",
        "DataF.head()\n",
        "DataF.to_csv(\"twitter_timestamp.csv\")"
      ]
    },
    {
      "cell_type": "code",
      "execution_count": null,
      "metadata": {
        "id": "UCchNJTEi_2p",
        "outputId": "03640459-8e1f-4bb4-a0cc-effff5b8e861"
      },
      "outputs": [
        {
          "data": {
            "text/html": [
              "<div>\n",
              "<style scoped>\n",
              "    .dataframe tbody tr th:only-of-type {\n",
              "        vertical-align: middle;\n",
              "    }\n",
              "\n",
              "    .dataframe tbody tr th {\n",
              "        vertical-align: top;\n",
              "    }\n",
              "\n",
              "    .dataframe thead th {\n",
              "        text-align: right;\n",
              "    }\n",
              "</style>\n",
              "<table border=\"1\" class=\"dataframe\">\n",
              "  <thead>\n",
              "    <tr style=\"text-align: right;\">\n",
              "      <th></th>\n",
              "      <th>Unnamed: 0</th>\n",
              "      <th>screen_name</th>\n",
              "      <th>user_id</th>\n",
              "      <th>created_at</th>\n",
              "      <th>full_text</th>\n",
              "      <th>retweet_count</th>\n",
              "      <th>timestamp</th>\n",
              "    </tr>\n",
              "  </thead>\n",
              "  <tbody>\n",
              "    <tr>\n",
              "      <th>0</th>\n",
              "      <td>0</td>\n",
              "      <td>classicsunrise</td>\n",
              "      <td>2312921736</td>\n",
              "      <td>2020-12-05 20:45:24</td>\n",
              "      <td>RT @colinasher: Shantell Green is an incarcera...</td>\n",
              "      <td>22</td>\n",
              "      <td>1607201124</td>\n",
              "    </tr>\n",
              "    <tr>\n",
              "      <th>1</th>\n",
              "      <td>1</td>\n",
              "      <td>Rask65</td>\n",
              "      <td>438974934</td>\n",
              "      <td>2020-12-05 20:45:24</td>\n",
              "      <td>Canadian Trumpism in full view. The main strea...</td>\n",
              "      <td>0</td>\n",
              "      <td>1607201124</td>\n",
              "    </tr>\n",
              "    <tr>\n",
              "      <th>2</th>\n",
              "      <td>2</td>\n",
              "      <td>MyMuseAndMusic</td>\n",
              "      <td>1325952158508986370</td>\n",
              "      <td>2020-12-05 20:45:23</td>\n",
              "      <td>RT @RodLacroix: Me: It's 30 degrees and snowin...</td>\n",
              "      <td>5</td>\n",
              "      <td>1607201123</td>\n",
              "    </tr>\n",
              "    <tr>\n",
              "      <th>3</th>\n",
              "      <td>3</td>\n",
              "      <td>fablefolly</td>\n",
              "      <td>1246547924689051655</td>\n",
              "      <td>2020-12-05 20:45:23</td>\n",
              "      <td>RT @bigsharkguy: persephone          my happin...</td>\n",
              "      <td>7679</td>\n",
              "      <td>1607201123</td>\n",
              "    </tr>\n",
              "    <tr>\n",
              "      <th>4</th>\n",
              "      <td>4</td>\n",
              "      <td>dantarte</td>\n",
              "      <td>145925314</td>\n",
              "      <td>2020-12-05 20:45:23</td>\n",
              "      <td>DisneyWorld Canada? Quebec City!</td>\n",
              "      <td>0</td>\n",
              "      <td>1607201123</td>\n",
              "    </tr>\n",
              "  </tbody>\n",
              "</table>\n",
              "</div>"
            ],
            "text/plain": [
              "   Unnamed: 0     screen_name              user_id           created_at  \\\n",
              "0           0  classicsunrise           2312921736  2020-12-05 20:45:24   \n",
              "1           1          Rask65            438974934  2020-12-05 20:45:24   \n",
              "2           2  MyMuseAndMusic  1325952158508986370  2020-12-05 20:45:23   \n",
              "3           3      fablefolly  1246547924689051655  2020-12-05 20:45:23   \n",
              "4           4        dantarte            145925314  2020-12-05 20:45:23   \n",
              "\n",
              "                                           full_text  retweet_count  \\\n",
              "0  RT @colinasher: Shantell Green is an incarcera...             22   \n",
              "1  Canadian Trumpism in full view. The main strea...              0   \n",
              "2  RT @RodLacroix: Me: It's 30 degrees and snowin...              5   \n",
              "3  RT @bigsharkguy: persephone          my happin...           7679   \n",
              "4                   DisneyWorld Canada? Quebec City!              0   \n",
              "\n",
              "    timestamp  \n",
              "0  1607201124  \n",
              "1  1607201124  \n",
              "2  1607201123  \n",
              "3  1607201123  \n",
              "4  1607201123  "
            ]
          },
          "execution_count": 9,
          "metadata": {},
          "output_type": "execute_result"
        }
      ],
      "source": [
        "df = pd.read_csv(\"twitter_timestamp.csv\")\n",
        "df.head()"
      ]
    },
    {
      "cell_type": "code",
      "execution_count": null,
      "metadata": {
        "id": "HbgUFmsNi_2r"
      },
      "outputs": [],
      "source": [
        "df.drop('created_at', inplace=True, axis=1)"
      ]
    },
    {
      "cell_type": "code",
      "execution_count": null,
      "metadata": {
        "id": "xI2qgAoJi_2r",
        "outputId": "8feb44c3-2a8b-4676-e160-73b5a1a7017f"
      },
      "outputs": [
        {
          "data": {
            "text/html": [
              "<div>\n",
              "<style scoped>\n",
              "    .dataframe tbody tr th:only-of-type {\n",
              "        vertical-align: middle;\n",
              "    }\n",
              "\n",
              "    .dataframe tbody tr th {\n",
              "        vertical-align: top;\n",
              "    }\n",
              "\n",
              "    .dataframe thead th {\n",
              "        text-align: right;\n",
              "    }\n",
              "</style>\n",
              "<table border=\"1\" class=\"dataframe\">\n",
              "  <thead>\n",
              "    <tr style=\"text-align: right;\">\n",
              "      <th></th>\n",
              "      <th>Unnamed: 0</th>\n",
              "      <th>screen_name</th>\n",
              "      <th>user_id</th>\n",
              "      <th>full_text</th>\n",
              "      <th>retweet_count</th>\n",
              "      <th>timestamp</th>\n",
              "    </tr>\n",
              "  </thead>\n",
              "  <tbody>\n",
              "    <tr>\n",
              "      <th>0</th>\n",
              "      <td>0</td>\n",
              "      <td>classicsunrise</td>\n",
              "      <td>2312921736</td>\n",
              "      <td>RT @colinasher: Shantell Green is an incarcera...</td>\n",
              "      <td>22</td>\n",
              "      <td>1607201124</td>\n",
              "    </tr>\n",
              "    <tr>\n",
              "      <th>1</th>\n",
              "      <td>1</td>\n",
              "      <td>Rask65</td>\n",
              "      <td>438974934</td>\n",
              "      <td>Canadian Trumpism in full view. The main strea...</td>\n",
              "      <td>0</td>\n",
              "      <td>1607201124</td>\n",
              "    </tr>\n",
              "    <tr>\n",
              "      <th>2</th>\n",
              "      <td>2</td>\n",
              "      <td>MyMuseAndMusic</td>\n",
              "      <td>1325952158508986370</td>\n",
              "      <td>RT @RodLacroix: Me: It's 30 degrees and snowin...</td>\n",
              "      <td>5</td>\n",
              "      <td>1607201123</td>\n",
              "    </tr>\n",
              "    <tr>\n",
              "      <th>3</th>\n",
              "      <td>3</td>\n",
              "      <td>fablefolly</td>\n",
              "      <td>1246547924689051655</td>\n",
              "      <td>RT @bigsharkguy: persephone          my happin...</td>\n",
              "      <td>7679</td>\n",
              "      <td>1607201123</td>\n",
              "    </tr>\n",
              "    <tr>\n",
              "      <th>4</th>\n",
              "      <td>4</td>\n",
              "      <td>dantarte</td>\n",
              "      <td>145925314</td>\n",
              "      <td>DisneyWorld Canada? Quebec City!</td>\n",
              "      <td>0</td>\n",
              "      <td>1607201123</td>\n",
              "    </tr>\n",
              "  </tbody>\n",
              "</table>\n",
              "</div>"
            ],
            "text/plain": [
              "   Unnamed: 0     screen_name              user_id  \\\n",
              "0           0  classicsunrise           2312921736   \n",
              "1           1          Rask65            438974934   \n",
              "2           2  MyMuseAndMusic  1325952158508986370   \n",
              "3           3      fablefolly  1246547924689051655   \n",
              "4           4        dantarte            145925314   \n",
              "\n",
              "                                           full_text  retweet_count  \\\n",
              "0  RT @colinasher: Shantell Green is an incarcera...             22   \n",
              "1  Canadian Trumpism in full view. The main strea...              0   \n",
              "2  RT @RodLacroix: Me: It's 30 degrees and snowin...              5   \n",
              "3  RT @bigsharkguy: persephone          my happin...           7679   \n",
              "4                   DisneyWorld Canada? Quebec City!              0   \n",
              "\n",
              "    timestamp  \n",
              "0  1607201124  \n",
              "1  1607201124  \n",
              "2  1607201123  \n",
              "3  1607201123  \n",
              "4  1607201123  "
            ]
          },
          "execution_count": 11,
          "metadata": {},
          "output_type": "execute_result"
        }
      ],
      "source": [
        "df.head()"
      ]
    },
    {
      "cell_type": "code",
      "execution_count": null,
      "metadata": {
        "id": "hKmbiuXRi_2s",
        "outputId": "ad7775fc-3bd4-4297-ba83-d0ce226427f9"
      },
      "outputs": [
        {
          "data": {
            "text/html": [
              "<div>\n",
              "<style scoped>\n",
              "    .dataframe tbody tr th:only-of-type {\n",
              "        vertical-align: middle;\n",
              "    }\n",
              "\n",
              "    .dataframe tbody tr th {\n",
              "        vertical-align: top;\n",
              "    }\n",
              "\n",
              "    .dataframe thead th {\n",
              "        text-align: right;\n",
              "    }\n",
              "</style>\n",
              "<table border=\"1\" class=\"dataframe\">\n",
              "  <thead>\n",
              "    <tr style=\"text-align: right;\">\n",
              "      <th></th>\n",
              "      <th>Unnamed: 0</th>\n",
              "      <th>screen_name</th>\n",
              "      <th>user_id</th>\n",
              "      <th>created_at</th>\n",
              "      <th>full_text</th>\n",
              "      <th>retweet_count</th>\n",
              "      <th>timestamp</th>\n",
              "    </tr>\n",
              "  </thead>\n",
              "  <tbody>\n",
              "    <tr>\n",
              "      <th>0</th>\n",
              "      <td>0</td>\n",
              "      <td>classicsunrise</td>\n",
              "      <td>2312921736</td>\n",
              "      <td>2020-12-05 20:45:24</td>\n",
              "      <td>RT @colinasher: Shantell Green is an incarcera...</td>\n",
              "      <td>22</td>\n",
              "      <td>1607201124</td>\n",
              "    </tr>\n",
              "    <tr>\n",
              "      <th>1</th>\n",
              "      <td>1</td>\n",
              "      <td>Rask65</td>\n",
              "      <td>438974934</td>\n",
              "      <td>2020-12-05 20:45:24</td>\n",
              "      <td>Canadian Trumpism in full view. The main strea...</td>\n",
              "      <td>0</td>\n",
              "      <td>1607201124</td>\n",
              "    </tr>\n",
              "    <tr>\n",
              "      <th>2</th>\n",
              "      <td>2</td>\n",
              "      <td>MyMuseAndMusic</td>\n",
              "      <td>1325952158508986370</td>\n",
              "      <td>2020-12-05 20:45:23</td>\n",
              "      <td>RT @RodLacroix: Me: It's 30 degrees and snowin...</td>\n",
              "      <td>5</td>\n",
              "      <td>1607201123</td>\n",
              "    </tr>\n",
              "    <tr>\n",
              "      <th>3</th>\n",
              "      <td>3</td>\n",
              "      <td>fablefolly</td>\n",
              "      <td>1246547924689051655</td>\n",
              "      <td>2020-12-05 20:45:23</td>\n",
              "      <td>RT @bigsharkguy: persephone          my happin...</td>\n",
              "      <td>7679</td>\n",
              "      <td>1607201123</td>\n",
              "    </tr>\n",
              "    <tr>\n",
              "      <th>4</th>\n",
              "      <td>4</td>\n",
              "      <td>dantarte</td>\n",
              "      <td>145925314</td>\n",
              "      <td>2020-12-05 20:45:23</td>\n",
              "      <td>DisneyWorld Canada? Quebec City!</td>\n",
              "      <td>0</td>\n",
              "      <td>1607201123</td>\n",
              "    </tr>\n",
              "  </tbody>\n",
              "</table>\n",
              "</div>"
            ],
            "text/plain": [
              "   Unnamed: 0     screen_name              user_id           created_at  \\\n",
              "0           0  classicsunrise           2312921736  2020-12-05 20:45:24   \n",
              "1           1          Rask65            438974934  2020-12-05 20:45:24   \n",
              "2           2  MyMuseAndMusic  1325952158508986370  2020-12-05 20:45:23   \n",
              "3           3      fablefolly  1246547924689051655  2020-12-05 20:45:23   \n",
              "4           4        dantarte            145925314  2020-12-05 20:45:23   \n",
              "\n",
              "                                           full_text  retweet_count  \\\n",
              "0  RT @colinasher: Shantell Green is an incarcera...             22   \n",
              "1  Canadian Trumpism in full view. The main strea...              0   \n",
              "2  RT @RodLacroix: Me: It's 30 degrees and snowin...              5   \n",
              "3  RT @bigsharkguy: persephone          my happin...           7679   \n",
              "4                   DisneyWorld Canada? Quebec City!              0   \n",
              "\n",
              "    timestamp  \n",
              "0  1607201124  \n",
              "1  1607201124  \n",
              "2  1607201123  \n",
              "3  1607201123  \n",
              "4  1607201123  "
            ]
          },
          "execution_count": 12,
          "metadata": {},
          "output_type": "execute_result"
        }
      ],
      "source": [
        "df = pd.read_csv(\"twitter_timestamp.csv\")\n",
        "df.head()"
      ]
    },
    {
      "cell_type": "code",
      "execution_count": null,
      "metadata": {
        "id": "DQs5JnZdi_2s",
        "outputId": "83e9d377-90e9-43bc-9703-12b3fb9631cb"
      },
      "outputs": [
        {
          "data": {
            "text/html": [
              "<div>\n",
              "<style scoped>\n",
              "    .dataframe tbody tr th:only-of-type {\n",
              "        vertical-align: middle;\n",
              "    }\n",
              "\n",
              "    .dataframe tbody tr th {\n",
              "        vertical-align: top;\n",
              "    }\n",
              "\n",
              "    .dataframe thead th {\n",
              "        text-align: right;\n",
              "    }\n",
              "</style>\n",
              "<table border=\"1\" class=\"dataframe\">\n",
              "  <thead>\n",
              "    <tr style=\"text-align: right;\">\n",
              "      <th></th>\n",
              "      <th>timestamp</th>\n",
              "    </tr>\n",
              "  </thead>\n",
              "  <tbody>\n",
              "    <tr>\n",
              "      <th>0</th>\n",
              "      <td>1607201124</td>\n",
              "    </tr>\n",
              "    <tr>\n",
              "      <th>1</th>\n",
              "      <td>1607201124</td>\n",
              "    </tr>\n",
              "    <tr>\n",
              "      <th>2</th>\n",
              "      <td>1607201123</td>\n",
              "    </tr>\n",
              "    <tr>\n",
              "      <th>3</th>\n",
              "      <td>1607201123</td>\n",
              "    </tr>\n",
              "    <tr>\n",
              "      <th>4</th>\n",
              "      <td>1607201123</td>\n",
              "    </tr>\n",
              "    <tr>\n",
              "      <th>...</th>\n",
              "      <td>...</td>\n",
              "    </tr>\n",
              "    <tr>\n",
              "      <th>995</th>\n",
              "      <td>1607200991</td>\n",
              "    </tr>\n",
              "    <tr>\n",
              "      <th>996</th>\n",
              "      <td>1607200991</td>\n",
              "    </tr>\n",
              "    <tr>\n",
              "      <th>997</th>\n",
              "      <td>1607200991</td>\n",
              "    </tr>\n",
              "    <tr>\n",
              "      <th>998</th>\n",
              "      <td>1607200991</td>\n",
              "    </tr>\n",
              "    <tr>\n",
              "      <th>999</th>\n",
              "      <td>1607200991</td>\n",
              "    </tr>\n",
              "  </tbody>\n",
              "</table>\n",
              "<p>1000 rows × 1 columns</p>\n",
              "</div>"
            ],
            "text/plain": [
              "      timestamp\n",
              "0    1607201124\n",
              "1    1607201124\n",
              "2    1607201123\n",
              "3    1607201123\n",
              "4    1607201123\n",
              "..          ...\n",
              "995  1607200991\n",
              "996  1607200991\n",
              "997  1607200991\n",
              "998  1607200991\n",
              "999  1607200991\n",
              "\n",
              "[1000 rows x 1 columns]"
            ]
          },
          "execution_count": 15,
          "metadata": {},
          "output_type": "execute_result"
        }
      ],
      "source": [
        "df.drop(columns=['user_id', 'screen_name', 'user_id','full_text', 'retweet_count', 'Unnamed: 0','created_at'])"
      ]
    },
    {
      "cell_type": "code",
      "execution_count": null,
      "metadata": {
        "id": "s7x-DngLi_2s"
      },
      "outputs": [],
      "source": []
    }
  ],
  "metadata": {
    "kernelspec": {
      "display_name": "Python 3",
      "language": "python",
      "name": "python3"
    },
    "language_info": {
      "codemirror_mode": {
        "name": "ipython",
        "version": 3
      },
      "file_extension": ".py",
      "mimetype": "text/x-python",
      "name": "python",
      "nbconvert_exporter": "python",
      "pygments_lexer": "ipython3",
      "version": "3.8.6"
    },
    "colab": {
      "provenance": [],
      "include_colab_link": true
    }
  },
  "nbformat": 4,
  "nbformat_minor": 0
}